{
 "cells": [
  {
   "cell_type": "code",
   "execution_count": 1,
   "id": "living-condition",
   "metadata": {},
   "outputs": [],
   "source": [
    "import spacy\n",
    "import json\n"
   ]
  },
  {
   "cell_type": "code",
   "execution_count": 27,
   "id": "yellow-class",
   "metadata": {},
   "outputs": [],
   "source": [
    "test_data=[\n",
    "    ('The foregoing recitals are incorporated into this MOU as if separately restated herein.'),\n",
    "    (\"Capitalized terms used and not otherwise defined herein shall have the meanings assigned to them in the Services Agreement.\"),\n",
    "    (\"In this Contract, unless otherwise provided or the context otherwise requires, capitalised expressions shall have the meanings set out in Schedule 1 (Definitions) or the relevant Schedule in which that capitalised expression appears.\"),\n",
    "    (\"In this Contract, unless otherwise provided or the context otherwise requires, capitalised expressions shall have the meanings set out in Schedule 1 (Definitions) or the relevant Schedule in which that capitalised expression appears.Interpretation is as set out in Schedule 1 .If there is any conflict between the Clauses and the Schedules and/or any Annexes to the Schedules, the conflict shall be resolved in accordance with the following order of precedence:the Clauses and Schedule 1 Schedules 2 (Services Description) and 3 (Performance Levels) and their Annexes The Schedules and their Annexes form part of this Contract.\"),\n",
    "    (\"SIGNED for and on behalf of\t) [name of the Supplier] by a director:\t))) Signature: Name (block capitals):Director SIGNED for and on behalf of)[name of the Authority]))) Signature:Name (block capitals):Position:\"),\n",
    "    (\"Document Title: User Agreement\"),\n",
    "    (\"Recitals provide background information.\"),\n",
    "]"
   ]
  },
  {
   "cell_type": "code",
   "execution_count": 28,
   "id": "threaded-northeast",
   "metadata": {},
   "outputs": [],
   "source": [
    "text=test_data[4]"
   ]
  },
  {
   "cell_type": "code",
   "execution_count": 29,
   "id": "intended-cassette",
   "metadata": {},
   "outputs": [
    {
     "name": "stdout",
     "output_type": "stream",
     "text": [
      "SIGNED for and on behalf of\t) [name of the Supplier] by a director:\t))) Signature: Name (block capitals):Director SIGNED for and on behalf of)[name of the Authority]))) Signature:Name (block capitals):Position:\n"
     ]
    }
   ],
   "source": [
    "print(text)"
   ]
  },
  {
   "cell_type": "code",
   "execution_count": 30,
   "id": "artificial-arrival",
   "metadata": {
    "scrolled": true
   },
   "outputs": [],
   "source": [
    "nlp = spacy.load(\"output5/model-last\")"
   ]
  },
  {
   "cell_type": "code",
   "execution_count": 31,
   "id": "political-placement",
   "metadata": {},
   "outputs": [],
   "source": [
    "doc = nlp(text)"
   ]
  },
  {
   "cell_type": "code",
   "execution_count": 32,
   "id": "aggressive-symphony",
   "metadata": {},
   "outputs": [
    {
     "name": "stdout",
     "output_type": "stream",
     "text": [
      "{'recitals': 0.7254235148429871, 'title': 0.025320570915937424, 'appendix': 0.45635390281677246, 'definitions': 0.02012557163834572, 'signatures': 0.4311707019805908, 'notices': 0.8343625068664551}\n"
     ]
    }
   ],
   "source": [
    "print (doc.cats)"
   ]
  },
  {
   "cell_type": "code",
   "execution_count": null,
   "id": "silent-paintball",
   "metadata": {},
   "outputs": [],
   "source": []
  }
 ],
 "metadata": {
  "kernelspec": {
   "display_name": "Python 3",
   "language": "python",
   "name": "python3"
  },
  "language_info": {
   "codemirror_mode": {
    "name": "ipython",
    "version": 3
   },
   "file_extension": ".py",
   "mimetype": "text/x-python",
   "name": "python",
   "nbconvert_exporter": "python",
   "pygments_lexer": "ipython3",
   "version": "3.11.5"
  }
 },
 "nbformat": 4,
 "nbformat_minor": 5
}
